{
  "nbformat": 4,
  "nbformat_minor": 0,
  "metadata": {
    "colab": {
      "provenance": [],
      "authorship_tag": "ABX9TyNZ8icpZ+u1+dv15Lqo7Woh",
      "include_colab_link": true
    },
    "kernelspec": {
      "name": "python3",
      "display_name": "Python 3"
    },
    "language_info": {
      "name": "python"
    }
  },
  "cells": [
    {
      "cell_type": "markdown",
      "metadata": {
        "id": "view-in-github",
        "colab_type": "text"
      },
      "source": [
        "<a href=\"https://colab.research.google.com/github/friedelj/Capstone/blob/main/Assignment3.ipynb\" target=\"_parent\"><img src=\"https://colab.research.google.com/assets/colab-badge.svg\" alt=\"Open In Colab\"/></a>"
      ]
    },
    {
      "cell_type": "markdown",
      "source": [
        "CAPSTONE   Assignment 3      7_14_25"
      ],
      "metadata": {
        "id": "bRW1THdVrVTZ"
      }
    },
    {
      "cell_type": "code",
      "execution_count": null,
      "metadata": {
        "id": "nbG4rqqMrRge"
      },
      "outputs": [],
      "source": [
        "import os\n",
        "import shutil\n",
        "from PIL import Image, ImageEnhance, ImageOps\n",
        "import random\n",
        "import traceback\n",
        "import pandas as pd\n",
        "import matplotlib.pyplot as plt\n",
        "import seaborn as sns"
      ]
    },
    {
      "cell_type": "code",
      "source": [
        "# Input and output directories\n",
        "input_dir = r'C:\\Users\\josep\\RF Signals'\n",
        "output_dir = r'C:\\Users\\josep\\RF Signals Balanced'\n",
        "target_count = 2000\n",
        "resize_dim = (224, 224)"
      ],
      "metadata": {
        "id": "EFO4UAXdrpeV"
      },
      "execution_count": null,
      "outputs": []
    },
    {
      "cell_type": "code",
      "source": [
        "# Logging\n",
        "failed_images = []"
      ],
      "metadata": {
        "id": "4iyTvAO-rpan"
      },
      "execution_count": null,
      "outputs": []
    },
    {
      "cell_type": "code",
      "source": [
        "# === Data Augmentation Function ===\n",
        "def augment_image(img):\n",
        "    transformations = [\n",
        "        lambda x: x.rotate(random.uniform(-15, 15)),\n",
        "        lambda x: ImageOps.mirror(x),\n",
        "        lambda x: ImageOps.flip(x),\n",
        "        lambda x: ImageEnhance.Brightness(x).enhance(random.uniform(0.7, 1.3)),\n",
        "        lambda x: ImageEnhance.Contrast(x).enhance(random.uniform(0.7, 1.3)),\n",
        "    ]\n",
        "    return random.choice(transformations)(img)"
      ],
      "metadata": {
        "id": "HkiJscK8rpXZ"
      },
      "execution_count": null,
      "outputs": []
    },
    {
      "cell_type": "code",
      "source": [
        "# === Histogram Equalization ===\n",
        "def equalize_histogram(img):\n",
        "    if img.mode != \"RGB\":\n",
        "        img = img.convert(\"RGB\")\n",
        "    r, g, b = img.split()\n",
        "    return Image.merge(\"RGB\", (ImageOps.equalize(r), ImageOps.equalize(g), ImageOps.equalize(b)))"
      ],
      "metadata": {
        "id": "po_m1iR7rpUF"
      },
      "execution_count": null,
      "outputs": []
    },
    {
      "cell_type": "code",
      "source": [
        "# === Process Each Class Folder ===\n",
        "os.makedirs(output_dir, exist_ok=True)"
      ],
      "metadata": {
        "id": "GqBoWjcDrpQv"
      },
      "execution_count": null,
      "outputs": []
    },
    {
      "cell_type": "code",
      "source": [
        "for class_name in os.listdir(input_dir):\n",
        "    class_path = os.path.join(input_dir, class_name)\n",
        "    if not os.path.isdir(class_path):\n",
        "        continue\n",
        "\n",
        "    print(f'🔍 Processing class: {class_name}')\n",
        "    orig_images = [f for f in os.listdir(class_path) if f.lower().endswith(('.jpg', '.jpeg', '.png'))]\n",
        "\n",
        "    if len(orig_images) == 0:\n",
        "        print(f'⚠️ Skipping {class_name} — no images found.')\n",
        "        continue\n",
        "\n",
        "    new_class_path = os.path.join(output_dir, class_name)\n",
        "    os.makedirs(new_class_path, exist_ok=True)\n",
        "    # Copy and standardize up to 2000 original images\n",
        "    copy_count = min(target_count, len(orig_images))\n",
        "    for i in range(copy_count):\n",
        "        try:\n",
        "            orig_name = orig_images[i]\n",
        "            src = os.path.join(class_path, orig_name)\n",
        "            with Image.open(src) as img:\n",
        "                img = img.convert(\"RGB\")\n",
        "                img = img.resize(resize_dim)\n",
        "                img = equalize_histogram(img)\n",
        "                base_name = os.path.splitext(orig_name)[0]\n",
        "                dst = os.path.join(new_class_path, f\"{base_name}.jpg\")\n",
        "                img.save(dst, format='JPEG')\n",
        "        except Exception as e:\n",
        "            print(f\"❌ Failed to process {orig_name} in {class_name}\")\n",
        "            failed_images.append((class_name, orig_name, str(e)))\n",
        "            continue\n",
        "    # Augment if less than 2000 images\n",
        "    current_count = len(os.listdir(new_class_path))\n",
        "    needed = target_count - current_count\n",
        "    if needed > 0:\n",
        "        print(f'➕ Augmenting {needed} images for {class_name}')\n",
        "        for i in range(needed):\n",
        "            try:\n",
        "                orig_name = orig_images[i % len(orig_images)]\n",
        "                orig_path = os.path.join(class_path, orig_name)\n",
        "                with Image.open(orig_path) as img:\n",
        "                    img = img.convert(\"RGB\")\n",
        "                    img = augment_image(img)\n",
        "                    img = img.resize(resize_dim)\n",
        "                    img = equalize_histogram(img)\n",
        "                    aug_name = f\"aug_{i}_{os.path.splitext(orig_name)[0]}.jpg\"\n",
        "                    aug_path = os.path.join(new_class_path, aug_name)\n",
        "                    img.save(aug_path, format='JPEG')\n",
        "            except Exception as e:\n",
        "                print(f\"❌ Failed to augment {orig_name} in {class_name}\")\n",
        "                failed_images.append((class_name, orig_name, str(e)))\n",
        "                continue\n",
        "\n",
        "    final_count = len(os.listdir(new_class_path))\n",
        "    print(f'✅ {class_name}: {final_count} images total.')\n",
        "\n",
        "# === Log Any Failures ===\n",
        "if failed_images:\n",
        "    log_path = os.path.join(output_dir, 'failed_images_log.txt')\n",
        "    with open(log_path, 'w') as f:\n",
        "        for entry in failed_images:\n",
        "            f.write(f\"Class: {entry[0]} | File: {entry[1]} | Error: {entry[2]}\\n\")\n",
        "    print(f\"\\n⚠️ Logged {len(failed_images)} failed image(s) to {log_path}\")\n",
        "\n",
        "print(\"\\n🎉 Dataset balancing to 2000 images per class complete.\")"
      ],
      "metadata": {
        "id": "a5U5PBdzrpNf"
      },
      "execution_count": null,
      "outputs": []
    },
    {
      "cell_type": "code",
      "source": [
        "balanced_dir = r'C:\\Users\\josep\\RF Signals Balanced'\n",
        "\n",
        "# Supported image formats\n",
        "extensions = ('.jpg', '.jpeg', '.png')\n",
        "\n",
        "print(f\"\\n📊 Image counts in each class under: {balanced_dir}\\n\")\n",
        "\n",
        "for class_name in sorted(os.listdir(balanced_dir)):\n",
        "    class_path = os.path.join(balanced_dir, class_name)\n",
        "    if os.path.isdir(class_path):\n",
        "        files = [f for f in os.listdir(class_path) if f.lower().endswith(extensions)]\n",
        "        count = len(files)\n",
        "        print(f\"{class_name:35} {count:5} images\")"
      ],
      "metadata": {
        "id": "uT-0ODnzrpJu"
      },
      "execution_count": null,
      "outputs": []
    },
    {
      "cell_type": "code",
      "source": [
        "# Path to the balanced image dataset\n",
        "balanced_dir = r'C:\\Users\\josep\\RF Signals Balanced'\n",
        "\n",
        "# Modulation mapping\n",
        "modulation_map = {\n",
        "    \"16QAM\": 1, \"2ASK\": 2, \"32QAM\": 3, \"4FSK\": 4, \"8PSK\": 5, \"RS41-Radiosonde\": 6,\n",
        "    \"Radioteletype\": 7, \"ads-b\": 8, \"airband\": 9, \"ais\": 10, \"am\": 11, \"atsc\": 12,\n",
        "    \"automatic-picture-transmission\": 13, \"bluetooth\": 14, \"cellular\": 15,\n",
        "    \"digital-audio-broadcasting\": 16, \"digital-speech-decoder\": 17, \"drone-video\": 18,\n",
        "    \"fm\": 19, \"hdmi\": 20, \"lora\": 21, \"morse\": 22, \"on-off-keying\": 23, \"packet\": 24,\n",
        "    \"pocsag\": 25, \"remote-keyless-entry\": 26, \"sstv\": 27, \"uav-video\": 28,\n",
        "    \"vor\": 29, \"wifi\": 30, \"z-wave\": 31\n",
        "}\n",
        "\n",
        "# Initialize rows for the dataframe\n",
        "rows = []\n",
        "line_number = 1\n",
        "\n",
        "# Walk through each class directory\n",
        "for class_name, class_number in modulation_map.items():\n",
        "    class_dir = os.path.join(balanced_dir, class_name)\n",
        "    if not os.path.isdir(class_dir):\n",
        "        print(f\"⚠️ Skipping missing folder: {class_dir}\")\n",
        "        continue\n",
        "\n",
        "    for file in sorted(os.listdir(class_dir)):\n",
        "        if file.lower().endswith(('.jpg', '.jpeg', '.png')):\n",
        "            file_path = os.path.join(class_name, file)  # relative path\n",
        "            rows.append({\n",
        "                \"Line Number\": line_number,\n",
        "                \"Modulation Type\": class_number,\n",
        "                \"Image File\": file_path\n",
        "            })\n",
        "            line_number += 1\n",
        "\n",
        "# Create the DataFrame\n",
        "df = pd.DataFrame(rows, columns=[\"Line Number\", \"Modulation Type\", \"Image File\"])\n",
        "\n",
        "# Save to CSV\n",
        "csv_path = os.path.join(balanced_dir, \"modulation_dataset_index.csv\")\n",
        "df.to_csv(csv_path, index=False)\n",
        "\n",
        "print(f\"✅ DataFrame created with {len(df)} entries.\")\n",
        "print(f\"📄 CSV saved to: {csv_path}\")"
      ],
      "metadata": {
        "id": "tg5xUqa2rpGO"
      },
      "execution_count": null,
      "outputs": []
    },
    {
      "cell_type": "code",
      "source": [
        "print(df.head())"
      ],
      "metadata": {
        "id": "3xpcp7vDrpCm"
      },
      "execution_count": null,
      "outputs": []
    },
    {
      "cell_type": "code",
      "source": [
        "# Remove exact duplicates based on 'Image File'\n",
        "df_cleaned = df.drop_duplicates(subset=[\"Image File\"]).reset_index(drop=True)\n",
        "\n",
        "# Show how many were removed\n",
        "removed = len(df) - len(df_cleaned)\n",
        "print(f\"✅ Removed {removed} duplicate image entries.\")\n",
        "print(f\"📊 Cleaned DataFrame now has {len(df_cleaned)} unique images.\")\n",
        "\n",
        "# Show first 5 rows\n",
        "print(df_cleaned.head())"
      ],
      "metadata": {
        "id": "u4-J5fQcro-e"
      },
      "execution_count": null,
      "outputs": []
    },
    {
      "cell_type": "code",
      "source": [
        "# Add a 'Base Name' column (filename without extension)\n",
        "df['Base Name'] = df['Image File'].apply(lambda x: os.path.splitext(os.path.basename(x))[0])\n",
        "df['Extension'] = df['Image File'].apply(lambda x: os.path.splitext(x)[1].lower())\n",
        "\n",
        "# Sort so PNG comes after JPG\n",
        "df_sorted = df.sort_values(by=['Base Name', 'Extension'], ascending=[True, False])\n",
        "\n",
        "# Drop duplicates based on 'Base Name', keeping the .png version\n",
        "df_deduped = df_sorted.drop_duplicates(subset=['Base Name'], keep='first').reset_index(drop=True)\n",
        "\n",
        "# Drop helper columns\n",
        "df_deduped = df_deduped.drop(columns=['Base Name', 'Extension'])\n",
        "\n",
        "# Reassign new line numbers\n",
        "df_deduped['Line Number'] = range(1, len(df_deduped) + 1)\n",
        "\n",
        "# Save to CSV\n",
        "csv_path = os.path.join(balanced_dir, \"modulation_dataset_index_nodupes.csv\")\n",
        "df_deduped.to_csv(csv_path, index=False)\n",
        "\n",
        "print(f\"✅ Removed .jpg duplicates — only .png versions retained when both exist.\")\n",
        "print(f\"📊 Final count: {len(df_deduped)} unique image entries.\")"
      ],
      "metadata": {
        "id": "nmQwo-D5ro1W"
      },
      "execution_count": null,
      "outputs": []
    },
    {
      "cell_type": "code",
      "source": [
        "# Group by 'Modulation Type' and count entries\n",
        "modulation_counts = df_deduped.groupby('Modulation Type')['Image File'].count()\n",
        "\n",
        "# Display the counts\n",
        "print(modulation_counts.sort_index())"
      ],
      "metadata": {
        "id": "rnaK_ufHrodS"
      },
      "execution_count": null,
      "outputs": []
    },
    {
      "cell_type": "code",
      "source": [
        "# Show first 5 rows\n",
        "print(df_deduped.head())"
      ],
      "metadata": {
        "id": "1Uo5GxYEsfAk"
      },
      "execution_count": null,
      "outputs": []
    },
    {
      "cell_type": "code",
      "source": [
        "# Map numbers back to names\n",
        "modulation_name_map = {\n",
        "    1: \"16QAM\", 2: \"2ASK\", 3: \"32QAM\", 4: \"4FSK\", 5: \"8PSK\", 6: \"RS41-Radiosonde\",\n",
        "    7: \"Radioteletype\", 8: \"ads-b\", 9: \"airband\", 10: \"ais\", 11: \"am\", 12: \"atsc\",\n",
        "    13: \"automatic-picture-transmission\", 14: \"bluetooth\", 15: \"cellular\",\n",
        "    16: \"digital-audio-broadcasting\", 17: \"digital-speech-decoder\", 18: \"drone-video\",\n",
        "    19: \"fm\", 20: \"hdmi\", 21: \"lora\", 22: \"morse\", 23: \"on-off-keying\", 24: \"packet\",\n",
        "    25: \"pocsag\", 26: \"remote-keyless-entry\", 27: \"sstv\", 28: \"uav-video\",\n",
        "    29: \"vor\", 30: \"wifi\", 31: \"z-wave\"\n",
        "}\n",
        "\n",
        "# Convert Series to DataFrame for better formatting\n",
        "modulation_counts_df = modulation_counts.reset_index()\n",
        "modulation_counts_df['Modulation Name'] = modulation_counts_df['Modulation Type'].map(modulation_name_map)\n",
        "\n",
        "# Reorder columns\n",
        "modulation_counts_df = modulation_counts_df[['Modulation Type', 'Modulation Name', 'Image File']]\n",
        "modulation_counts_df.columns = ['Modulation Type', 'Modulation Name', 'Image Count']\n",
        "\n",
        "# Sort and display\n",
        "print(modulation_counts_df.sort_values(by='Modulation Type'))"
      ],
      "metadata": {
        "id": "i0z155mese8K"
      },
      "execution_count": null,
      "outputs": []
    },
    {
      "cell_type": "code",
      "source": [
        "# Group by 'Modulation Type' and count image files\n",
        "modulation_counts = df_deduped.groupby('Modulation Type')['Image File'].count()\n",
        "\n",
        "# Define mapping from modulation type number to name\n",
        "modulation_name_map = {\n",
        "    1: \"16QAM\", 2: \"2ASK\", 3: \"32QAM\", 4: \"4FSK\", 5: \"8PSK\", 6: \"RS41-Radiosonde\",\n",
        "    7: \"Radioteletype\", 8: \"ads-b\", 9: \"airband\", 10: \"ais\", 11: \"am\", 12: \"atsc\",\n",
        "    13: \"automatic-picture-transmission\", 14: \"bluetooth\", 15: \"cellular\",\n",
        "    16: \"digital-audio-broadcasting\", 17: \"digital-speech-decoder\", 18: \"drone-video\",\n",
        "    19: \"fm\", 20: \"hdmi\", 21: \"lora\", 22: \"morse\", 23: \"on-off-keying\", 24: \"packet\",\n",
        "    25: \"pocsag\", 26: \"remote-keyless-entry\", 27: \"sstv\", 28: \"uav-video\",\n",
        "    29: \"vor\", 30: \"wifi\", 31: \"z-wave\"\n",
        "}\n",
        "\n",
        "# Convert to DataFrame\n",
        "modulation_counts_df = modulation_counts.reset_index()\n",
        "modulation_counts_df['Modulation Name'] = modulation_counts_df['Modulation Type'].map(modulation_name_map)\n",
        "modulation_counts_df.columns = ['Modulation Type', 'Image Count', 'Modulation Name']\n",
        "modulation_counts_df = modulation_counts_df[['Modulation Type', 'Modulation Name', 'Image Count']]\n",
        "\n",
        "# Save to CSV\n",
        "csv_output_path = os.path.join(balanced_dir, \"modulation_image_counts.csv\")\n",
        "modulation_counts_df.to_csv(csv_output_path, index=False)\n",
        "print(f\"✅ CSV saved to: {csv_output_path}\")\n",
        "\n",
        "# Plot bar chart\n",
        "plt.figure(figsize=(14, 7))\n",
        "plt.bar(modulation_counts_df['Modulation Name'], modulation_counts_df['Image Count'], color='steelblue')\n",
        "plt.xticks(rotation=90)\n",
        "plt.title(\"Image Count per Modulation Type\")\n",
        "plt.xlabel(\"Modulation Type\")\n",
        "plt.ylabel(\"Image Count\")\n",
        "plt.tight_layout()\n",
        "plt.grid(axis='y', linestyle='--', alpha=0.7)\n",
        "plt.show()"
      ],
      "metadata": {
        "id": "24I_Pkrdse40"
      },
      "execution_count": null,
      "outputs": []
    },
    {
      "cell_type": "code",
      "source": [
        "# Show first 5 rows\n",
        "print(modulation_counts_df.head(31))"
      ],
      "metadata": {
        "id": "gT0fYgnzse1Z"
      },
      "execution_count": null,
      "outputs": []
    },
    {
      "cell_type": "code",
      "source": [
        "# Add a column that marks whether the image was augmented or original\n",
        "df_deduped['Augmented'] = df_deduped['Image File'].apply(lambda x: os.path.basename(x).startswith('aug_'))\n",
        "\n",
        "# Optional: Count how many are augmented vs original\n",
        "print(df_deduped['Augmented'].value_counts())"
      ],
      "metadata": {
        "id": "a_32bZgaseyI"
      },
      "execution_count": null,
      "outputs": []
    },
    {
      "cell_type": "code",
      "source": [
        "# Show first 5 rows\n",
        "print(df_deduped.head())"
      ],
      "metadata": {
        "id": "V5oK8d8Pseuy"
      },
      "execution_count": null,
      "outputs": []
    },
    {
      "cell_type": "code",
      "source": [
        "df_signals = df_deduped"
      ],
      "metadata": {
        "id": "R-U3o5iGserG"
      },
      "execution_count": null,
      "outputs": []
    },
    {
      "cell_type": "code",
      "source": [
        "correlation_matrix = df_signals.corr(numeric_only=True)\n",
        "print(correlation_matrix)"
      ],
      "metadata": {
        "id": "I55ceqGtsenO"
      },
      "execution_count": null,
      "outputs": []
    },
    {
      "cell_type": "code",
      "source": [
        "plt.figure(figsize=(8, 6))\n",
        "sns.heatmap(df_signals.corr(numeric_only=True), annot=True, cmap='coolwarm', fmt=\".2f\")\n",
        "plt.title(\"Correlation Matrix of df_signals\")\n",
        "plt.tight_layout()\n",
        "plt.show()"
      ],
      "metadata": {
        "id": "5Wjrre_dsei-"
      },
      "execution_count": null,
      "outputs": []
    },
    {
      "cell_type": "code",
      "source": [
        "# Compute correlation matrix (only for numeric columns)\n",
        "corr_matrix = df_signals.corr(numeric_only=True)\n",
        "\n",
        "# Create heatmap\n",
        "plt.figure(figsize=(8, 6))\n",
        "sns.heatmap(corr_matrix, annot=True, cmap='coolwarm', center=0, fmt=\".2f\", linewidths=0.5, square=True)\n",
        "\n",
        "# Add title and layout\n",
        "plt.title(\"Correlation Matrix of df_signals\")\n",
        "plt.tight_layout()\n",
        "plt.show()"
      ],
      "metadata": {
        "id": "E6nBSFI8seXn"
      },
      "execution_count": null,
      "outputs": []
    },
    {
      "cell_type": "code",
      "source": [
        "# Create the summary table\n",
        "summary = df_signals.groupby(['Modulation Type', 'Augmented'])['Image File'].count().unstack(fill_value=0)\n",
        "summary.columns = ['Original Images', 'Augmented Images']\n",
        "summary['Total Images'] = summary['Original Images'] + summary['Augmented Images']\n",
        "summary = summary.reset_index()\n",
        "\n",
        "# Add modulation names (if you have a mapping)\n",
        "modulation_name_map = {\n",
        "    1: \"16QAM\", 2: \"2ASK\", 3: \"32QAM\", 4: \"4FSK\", 5: \"8PSK\", 6: \"RS41-Radiosonde\",\n",
        "    7: \"Radioteletype\", 8: \"ads-b\", 9: \"airband\", 10: \"ais\", 11: \"am\", 12: \"atsc\",\n",
        "    13: \"automatic-picture-transmission\", 14: \"bluetooth\", 15: \"cellular\",\n",
        "    16: \"digital-audio-broadcasting\", 17: \"digital-speech-decoder\", 18: \"drone-video\",\n",
        "    19: \"fm\", 20: \"hdmi\", 21: \"lora\", 22: \"morse\", 23: \"on-off-keying\", 24: \"packet\",\n",
        "    25: \"pocsag\", 26: \"remote-keyless-entry\", 27: \"sstv\", 28: \"uav-video\",\n",
        "    29: \"vor\", 30: \"wifi\", 31: \"z-wave\"\n",
        "}\n",
        "summary['Modulation Name'] = summary['Modulation Type'].map(modulation_name_map)\n",
        "summary = summary[['Modulation Type', 'Modulation Name', 'Original Images', 'Augmented Images', 'Total Images']]\n",
        "\n",
        "# Display the table\n",
        "print(summary)"
      ],
      "metadata": {
        "id": "nf5L-Vvts_lb"
      },
      "execution_count": null,
      "outputs": []
    },
    {
      "cell_type": "code",
      "source": [
        "# Bar chart\n",
        "plt.figure(figsize=(14, 7))\n",
        "bar_width = 0.35\n",
        "x = range(len(summary))\n",
        "\n",
        "plt.bar(x, summary['Original Images'], width=bar_width, label='Original', color='steelblue')\n",
        "plt.bar([i + bar_width for i in x], summary['Augmented Images'], width=bar_width, label='Augmented', color='salmon')\n",
        "\n",
        "plt.xlabel('Modulation Type')\n",
        "plt.ylabel('Number of Images')\n",
        "plt.title('Original vs Augmented Image Counts by Modulation Type')\n",
        "plt.xticks([i + bar_width / 2 for i in x], summary['Modulation Name'], rotation=90)\n",
        "plt.legend()\n",
        "plt.tight_layout()\n",
        "plt.grid(axis='y', linestyle='--', alpha=0.6)\n",
        "plt.show()"
      ],
      "metadata": {
        "id": "___AMxZMs_iA"
      },
      "execution_count": null,
      "outputs": []
    },
    {
      "cell_type": "code",
      "source": [
        "# Save table to CSV\n",
        "summary.to_csv(\"modulation_image_summary.csv\", index=False)\n",
        "\n",
        "# Save chart as PNG\n",
        "plt.savefig(\"modulation_image_bar_chart.png\")"
      ],
      "metadata": {
        "id": "trIOH-7-s_eq"
      },
      "execution_count": null,
      "outputs": []
    },
    {
      "cell_type": "code",
      "source": [
        "# Sort by modulation name (optional, for readability)\n",
        "summary_sorted = summary.sort_values(\"Modulation Name\")\n",
        "\n",
        "# Set up the plot\n",
        "plt.figure(figsize=(14, 7))\n",
        "\n",
        "# Plot stacked bars: Original + Augmented\n",
        "plt.bar(summary_sorted['Modulation Name'], summary_sorted['Original Images'],\n",
        "        label='Original', color='steelblue')\n",
        "plt.bar(summary_sorted['Modulation Name'], summary_sorted['Augmented Images'],\n",
        "        bottom=summary_sorted['Original Images'], label='Augmented', color='salmon')\n",
        "\n",
        "# Plot Total as black dots (optional)\n",
        "plt.plot(summary_sorted['Modulation Name'], summary_sorted['Total Images'],\n",
        "         marker='o', color='black', linestyle='None', label='Total')\n",
        "\n",
        "# Customize the plot\n",
        "plt.xlabel('Modulation Type')\n",
        "plt.ylabel('Number of Images')\n",
        "plt.title('Image Count per Modulation Type (Original + Augmented)')\n",
        "plt.xticks(rotation=90)\n",
        "plt.legend()\n",
        "plt.grid(axis='y', linestyle='--', alpha=0.5)\n",
        "plt.tight_layout()\n",
        "plt.show()"
      ],
      "metadata": {
        "id": "H1vSr6Ybs_bB"
      },
      "execution_count": null,
      "outputs": []
    },
    {
      "cell_type": "code",
      "source": [
        "# Group by modulation type and augmentation status\n",
        "summary_table = df_signals.groupby(['Modulation Type', 'Augmented'])['Image File'].count().unstack(fill_value=0)\n",
        "\n",
        "# Rename columns for clarity\n",
        "summary_table.columns = ['Original Images', 'Augmented Images']\n",
        "\n",
        "# Add total column\n",
        "summary_table['Total Images'] = summary_table['Original Images'] + summary_table['Augmented Images']\n",
        "\n",
        "# Reset index to make 'Modulation Type' a column\n",
        "summary_table = summary_table.reset_index()\n",
        "\n",
        "# Add modulation name mapping\n",
        "modulation_name_map = {\n",
        "    1: \"16QAM\", 2: \"2ASK\", 3: \"32QAM\", 4: \"4FSK\", 5: \"8PSK\", 6: \"RS41-Radiosonde\",\n",
        "    7: \"Radioteletype\", 8: \"ads-b\", 9: \"airband\", 10: \"ais\", 11: \"am\", 12: \"atsc\",\n",
        "    13: \"automatic-picture-transmission\", 14: \"bluetooth\", 15: \"cellular\",\n",
        "    16: \"digital-audio-broadcasting\", 17: \"digital-speech-decoder\", 18: \"drone-video\",\n",
        "    19: \"fm\", 20: \"hdmi\", 21: \"lora\", 22: \"morse\", 23: \"on-off-keying\", 24: \"packet\",\n",
        "    25: \"pocsag\", 26: \"remote-keyless-entry\", 27: \"sstv\", 28: \"uav-video\",\n",
        "    29: \"vor\", 30: \"wifi\", 31: \"z-wave\"\n",
        "}\n",
        "summary_table['Modulation Name'] = summary_table['Modulation Type'].map(modulation_name_map)\n",
        "\n",
        "# Rearrange columns\n",
        "summary_table = summary_table[['Modulation Type', 'Modulation Name',\n",
        "                               'Original Images', 'Augmented Images', 'Total Images']]\n",
        "\n",
        "# Display the table\n",
        "print(summary_table)"
      ],
      "metadata": {
        "id": "YplyR-6ls_Xv"
      },
      "execution_count": null,
      "outputs": []
    },
    {
      "cell_type": "code",
      "source": [
        "# Sort for cleaner x-axis display\n",
        "summary_sorted = summary_table.sort_values(\"Modulation Name\")\n",
        "\n",
        "plt.figure(figsize=(14, 6))\n",
        "plt.plot(summary_sorted['Modulation Name'], summary_sorted['Original Images'],\n",
        "         marker='o', label='Original Images', color='steelblue')\n",
        "plt.plot(summary_sorted['Modulation Name'], summary_sorted['Augmented Images'],\n",
        "         marker='s', label='Augmented Images', color='salmon')\n",
        "plt.plot(summary_sorted['Modulation Name'], summary_sorted['Total Images'],\n",
        "         marker='^', label='Total Images', color='green')\n",
        "\n",
        "plt.xticks(rotation=90)\n",
        "plt.xlabel('Modulation Type')\n",
        "plt.ylabel('Number of Images')\n",
        "plt.title('Image Distribution per Modulation Type')\n",
        "plt.legend()\n",
        "plt.grid(True, linestyle='--', alpha=0.5)\n",
        "plt.tight_layout()\n",
        "plt.show()"
      ],
      "metadata": {
        "id": "RLUt0ucKs_T-"
      },
      "execution_count": null,
      "outputs": []
    },
    {
      "cell_type": "code",
      "source": [
        "# Histogram of Image Counts per Modulation (Distribution)\n",
        "plt.figure(figsize=(12,6))\n",
        "sns.histplot(data=summary_table, x='Total Images', bins=20, kde=True)\n",
        "plt.title('Histogram of Total Image Counts per Modulation Type')\n",
        "plt.xlabel('Number of Images')\n",
        "plt.ylabel('Frequency')\n",
        "plt.grid(True)\n",
        "plt.show()"
      ],
      "metadata": {
        "id": "AvvN2ssTs_PP"
      },
      "execution_count": null,
      "outputs": []
    },
    {
      "cell_type": "code",
      "source": [
        "# Box Plot of Image Counts\n",
        "plt.figure(figsize=(10,6))\n",
        "sns.boxplot(data=summary_table[['Original Images', 'Augmented Images']])\n",
        "plt.title('Box Plot of Image Counts')\n",
        "plt.ylabel('Image Count')\n",
        "plt.grid(True)\n",
        "plt.show()"
      ],
      "metadata": {
        "id": "QcrPl1zms_FQ"
      },
      "execution_count": null,
      "outputs": []
    },
    {
      "cell_type": "code",
      "source": [
        "# Bar Chart of Top N Modulation Types by Image Count\n",
        "top_n = summary_table.sort_values('Total Images', ascending=False).head(10)\n",
        "\n",
        "plt.figure(figsize=(12,6))\n",
        "sns.barplot(x='Modulation Name', y='Total Images', data=top_n, palette='viridis')\n",
        "plt.title('Top 10 Modulation Types by Total Image Count')\n",
        "plt.ylabel('Total Images')\n",
        "plt.xticks(rotation=45)\n",
        "plt.show()"
      ],
      "metadata": {
        "id": "RCP9nqKYtzph"
      },
      "execution_count": null,
      "outputs": []
    }
  ]
}